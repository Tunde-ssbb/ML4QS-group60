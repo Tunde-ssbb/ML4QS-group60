{
 "cells": [
  {
   "cell_type": "code",
   "execution_count": 6,
   "metadata": {},
   "outputs": [
    {
     "name": "stdout",
     "output_type": "stream",
     "text": [
      "Current directory: c:\\Users\\chris\\OneDrive\\Documenten\\GitHub\\ML4QS-group60\\assign1\n",
      "ML4QS directory: c:\\Users\\chris\\OneDrive\\Documenten\\GitHub\\ML4QS-group60\n",
      "sys.path: ['c:\\\\Users\\\\chris\\\\miniconda3\\\\envs\\\\myenv\\\\python38.zip', 'c:\\\\Users\\\\chris\\\\miniconda3\\\\envs\\\\myenv\\\\DLLs', 'c:\\\\Users\\\\chris\\\\miniconda3\\\\envs\\\\myenv\\\\lib', 'c:\\\\Users\\\\chris\\\\miniconda3\\\\envs\\\\myenv', '', 'c:\\\\Users\\\\chris\\\\miniconda3\\\\envs\\\\myenv\\\\lib\\\\site-packages', 'c:\\\\Users\\\\chris\\\\miniconda3\\\\envs\\\\myenv\\\\lib\\\\site-packages\\\\win32', 'c:\\\\Users\\\\chris\\\\miniconda3\\\\envs\\\\myenv\\\\lib\\\\site-packages\\\\win32\\\\lib', 'c:\\\\Users\\\\chris\\\\miniconda3\\\\envs\\\\myenv\\\\lib\\\\site-packages\\\\Pythonwin', 'c:\\\\Users\\\\chris\\\\OneDrive\\\\Documenten\\\\GitHub\\\\ML4QS-group60']\n",
      "Reading data from Raw Data.csv\n"
     ]
    }
   ],
   "source": [
    "import sys\n",
    "import os\n",
    "from pathlib import Path\n",
    "\n",
    "# Add the parent directory of the current script to the Python path\n",
    "current_dir = current_dir = os.getcwd()\n",
    "ml4qs_dir = os.path.abspath(os.path.join(current_dir, os.pardir))\n",
    "sys.path.append(ml4qs_dir)\n",
    "\n",
    "print(f\"Current directory: {current_dir}\")\n",
    "print(f\"ML4QS directory: {ml4qs_dir}\")\n",
    "print(f\"sys.path: {sys.path}\")\n",
    "\n",
    "\n",
    "from Python3Code.Chapter2 import CreateDataset\n",
    "\n",
    "\n",
    "granularity = 100  # in milliseconds (1 second)\n",
    "start_time = '2023-01-01 00:00:00'\n",
    "end_time = '2023-01-01 00:10:00'\n",
    "cols = ['Gyroscope x (rad/s)', 'Gyroscope y (rad/s)', 'Gyroscope z (rad/s)', 'Absolute (rad/s)']\n",
    "prefix = 'rotation'\n",
    "\n",
    "dataset_creator = CreateDataset(Path(current_dir), granularity)\n",
    "dataset_creator.create_dataset(start_time, end_time, cols, prefix)\n",
    "\n",
    "file = 'Raw Data.csv'\n",
    "timestamp_col = 'Time (s)'\n",
    "aggregation='avg'\n",
    "dataset_creator.add_numerical_dataset(file, timestamp_col, cols, aggregation, prefix)"
   ]
  }
 ],
 "metadata": {
  "kernelspec": {
   "display_name": "myenv",
   "language": "python",
   "name": "python3"
  },
  "language_info": {
   "codemirror_mode": {
    "name": "ipython",
    "version": 3
   },
   "file_extension": ".py",
   "mimetype": "text/x-python",
   "name": "python",
   "nbconvert_exporter": "python",
   "pygments_lexer": "ipython3",
   "version": "3.8.19"
  }
 },
 "nbformat": 4,
 "nbformat_minor": 2
}
